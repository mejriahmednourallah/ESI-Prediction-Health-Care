{
 "cells": [
  {
   "cell_type": "markdown",
   "id": "1006ed41",
   "metadata": {},
   "source": [
    "# ESI Prediction Using Various Models\n",
    "This notebook loads a dataset, processes the data, and applies K-Nearest Neighbors (KNN) and Support Vector Machine (SVM) classification."
   ]
  },
  {
   "cell_type": "markdown",
   "id": "aa9bfb14",
   "metadata": {},
   "source": [
    "# Import necessary libraries\n"
   ]
  },
  {
   "cell_type": "code",
   "execution_count": 3,
   "id": "ef071faa",
   "metadata": {},
   "outputs": [
    {
     "name": "stdout",
     "output_type": "stream",
     "text": [
      "Requirement already satisfied: imbalanced-learn in c:\\users\\dell\\anaconda3\\lib\\site-packages (0.12.3)\n",
      "Requirement already satisfied: numpy>=1.17.3 in c:\\users\\dell\\anaconda3\\lib\\site-packages (from imbalanced-learn) (1.26.4)\n",
      "Requirement already satisfied: scipy>=1.5.0 in c:\\users\\dell\\anaconda3\\lib\\site-packages (from imbalanced-learn) (1.13.1)\n",
      "Requirement already satisfied: scikit-learn>=1.0.2 in c:\\users\\dell\\anaconda3\\lib\\site-packages (from imbalanced-learn) (1.5.1)\n",
      "Requirement already satisfied: joblib>=1.1.1 in c:\\users\\dell\\anaconda3\\lib\\site-packages (from imbalanced-learn) (1.4.2)\n",
      "Requirement already satisfied: threadpoolctl>=2.0.0 in c:\\users\\dell\\anaconda3\\lib\\site-packages (from imbalanced-learn) (3.5.0)\n"
     ]
    }
   ],
   "source": [
    "import pandas as pd\n",
    "import numpy as np\n",
    "from sklearn.model_selection import train_test_split\n",
    "from sklearn.preprocessing import OneHotEncoder, StandardScaler\n",
    "from sklearn.impute import SimpleImputer\n",
    "from sklearn.neighbors import KNeighborsClassifier\n",
    "from sklearn.svm import SVC\n",
    "from sklearn.metrics import accuracy_score, classification_report\n",
    "import seaborn as sns\n",
    "import matplotlib.pyplot as plt\n",
    "from sklearn.tree import DecisionTreeClassifier\n",
    "from sklearn import metrics\n",
    "from sklearn.model_selection import RandomizedSearchCV\n",
    "from sklearn.svm import SVC\n",
    "from sklearn.metrics import accuracy_score\n",
    "from joblib import Parallel, delayed\n",
    "from sklearn.ensemble import RandomForestClassifier\n",
    "from sklearn.metrics import accuracy_score, classification_report\n",
    "from sklearn.model_selection import train_test_split\n",
    "import mord\n",
    "import xgboost as xgb \n",
    "from sklearn.model_selection import GridSearchCV\n",
    "from sklearn.linear_model import LinearRegression\n",
    "from sklearn.preprocessing import LabelEncoder, StandardScaler\n",
    "from sklearn.compose import ColumnTransformer\n",
    "!pip install imbalanced-learn\n"
   ]
  },
  {
   "cell_type": "markdown",
   "id": "ec1eb419",
   "metadata": {},
   "source": [
    "# Load Data\n"
   ]
  },
  {
   "cell_type": "code",
   "execution_count": 5,
   "id": "03d749ab",
   "metadata": {},
   "outputs": [
    {
     "name": "stdout",
     "output_type": "stream",
     "text": [
      "Loading data...\n"
     ]
    }
   ],
   "source": [
    "print(\"Loading data...\")\n",
    "df = pd.read_csv(\"C:/Users/DELL/OneDrive - Ministere de l'Enseignement Superieur et de la Recherche Scientifique/Desktop/Machine Learning/FinalMlfast.csv\", nrows=30000)"
   ]
  },
  {
   "cell_type": "markdown",
   "id": "20078bb5",
   "metadata": {},
   "source": [
    "# 1. Data Overview:\n"
   ]
  },
  {
   "cell_type": "code",
   "execution_count": 7,
   "id": "50406f1e",
   "metadata": {},
   "outputs": [
    {
     "name": "stdout",
     "output_type": "stream",
     "text": [
      "<class 'pandas.core.frame.DataFrame'>\n",
      "RangeIndex: 30000 entries, 0 to 29999\n",
      "Columns: 972 entries, dep_name to cc_wristpain\n",
      "dtypes: float64(589), int64(368), object(15)\n",
      "memory usage: 222.5+ MB\n",
      "None\n",
      "  dep_name  esi   age  gender           ethnicity  \\\n",
      "0        B  4.0  40.0    Male  Hispanic or Latino   \n",
      "1        B  4.0  66.0    Male  Hispanic or Latino   \n",
      "2        B  2.0  66.0    Male  Hispanic or Latino   \n",
      "3        A  2.0  66.0    Male  Hispanic or Latino   \n",
      "4        A  3.0  84.0  Female  Hispanic or Latino   \n",
      "\n",
      "                                        race     lang     religion  \\\n",
      "0                         White or Caucasian  English          NaN   \n",
      "1  Native Hawaiian or Other Pacific Islander  English  Pentecostal   \n",
      "2  Native Hawaiian or Other Pacific Islander  English  Pentecostal   \n",
      "3  Native Hawaiian or Other Pacific Islander  English  Pentecostal   \n",
      "4                                      Other    Other  Pentecostal   \n",
      "\n",
      "  maritalstatus  employstatus  ... cc_vaginaldischarge cc_vaginalpain  \\\n",
      "0        Single     Full Time  ...                 0.0            0.0   \n",
      "1       Married  Not Employed  ...                 0.0            0.0   \n",
      "2       Married  Not Employed  ...                 0.0            0.0   \n",
      "3       Married  Not Employed  ...                 0.0            0.0   \n",
      "4       Widowed       Retired  ...                 0.0            0.0   \n",
      "\n",
      "  cc_weakness cc_wheezing cc_withdrawal-alcohol cc_woundcheck  \\\n",
      "0         0.0         0.0                   0.0           0.0   \n",
      "1         0.0         0.0                   0.0           0.0   \n",
      "2         0.0         0.0                   0.0           0.0   \n",
      "3         0.0         0.0                   0.0           0.0   \n",
      "4         0.0         0.0                   0.0           0.0   \n",
      "\n",
      "  cc_woundinfection  cc_woundre-evaluation  cc_wristinjury  cc_wristpain  \n",
      "0               0.0                    0.0             0.0           0.0  \n",
      "1               0.0                    0.0             0.0           0.0  \n",
      "2               0.0                    0.0             0.0           0.0  \n",
      "3               0.0                    0.0             0.0           0.0  \n",
      "4               0.0                    0.0             0.0           0.0  \n",
      "\n",
      "[5 rows x 972 columns]\n",
      "                esi           age   2ndarymalig   abdomhernia   abdomnlpain  \\\n",
      "count  29890.000000  30000.000000  30000.000000  30000.000000  30000.000000   \n",
      "mean       2.993175     53.218500      0.001933      0.037467      0.014033   \n",
      "std        0.852512     20.839937      0.043928      0.189906      0.117630   \n",
      "min        1.000000     18.000000      0.000000      0.000000      0.000000   \n",
      "25%        2.000000     35.000000      0.000000      0.000000      0.000000   \n",
      "50%        3.000000     53.000000      0.000000      0.000000      0.000000   \n",
      "75%        4.000000     69.000000      0.000000      0.000000      0.000000   \n",
      "max        5.000000    107.000000      1.000000      1.000000      1.000000   \n",
      "\n",
      "       abortcompl    acqfootdef    acrenlfail      acutecvd       acutemi  \\\n",
      "count     30000.0  30000.000000  30000.000000  30000.000000  30000.000000   \n",
      "mean          0.0      0.005400      0.011767      0.060500      0.043733   \n",
      "std           0.0      0.073287      0.107836      0.238415      0.204505   \n",
      "min           0.0      0.000000      0.000000      0.000000      0.000000   \n",
      "25%           0.0      0.000000      0.000000      0.000000      0.000000   \n",
      "50%           0.0      0.000000      0.000000      0.000000      0.000000   \n",
      "75%           0.0      0.000000      0.000000      0.000000      0.000000   \n",
      "max           0.0      1.000000      1.000000      1.000000      1.000000   \n",
      "\n",
      "       ...  cc_vaginaldischarge  cc_vaginalpain   cc_weakness   cc_wheezing  \\\n",
      "count  ...         29855.000000    29855.000000  29855.000000  29855.000000   \n",
      "mean   ...             0.000904        0.000770      0.015575      0.000837   \n",
      "std    ...             0.030060        0.027746      0.123827      0.028926   \n",
      "min    ...             0.000000        0.000000      0.000000      0.000000   \n",
      "25%    ...             0.000000        0.000000      0.000000      0.000000   \n",
      "50%    ...             0.000000        0.000000      0.000000      0.000000   \n",
      "75%    ...             0.000000        0.000000      0.000000      0.000000   \n",
      "max    ...             1.000000        1.000000      1.000000      1.000000   \n",
      "\n",
      "       cc_withdrawal-alcohol  cc_woundcheck  cc_woundinfection  \\\n",
      "count           29855.000000   29855.000000       29855.000000   \n",
      "mean                0.000804       0.004120           0.003584   \n",
      "std                 0.028342       0.064055           0.059760   \n",
      "min                 0.000000       0.000000           0.000000   \n",
      "25%                 0.000000       0.000000           0.000000   \n",
      "50%                 0.000000       0.000000           0.000000   \n",
      "75%                 0.000000       0.000000           0.000000   \n",
      "max                 1.000000       1.000000           1.000000   \n",
      "\n",
      "       cc_woundre-evaluation  cc_wristinjury  cc_wristpain  \n",
      "count           29855.000000    29855.000000  29855.000000  \n",
      "mean                0.001105        0.001239      0.002010  \n",
      "std                 0.033229        0.035183      0.045527  \n",
      "min                 0.000000        0.000000      0.000000  \n",
      "25%                 0.000000        0.000000      0.000000  \n",
      "50%                 0.000000        0.000000      0.000000  \n",
      "75%                 0.000000        0.000000      0.000000  \n",
      "max                 1.000000        1.000000      2.000000  \n",
      "\n",
      "[8 rows x 957 columns]\n"
     ]
    }
   ],
   "source": [
    "# Checking basic information\n",
    "print(df.info())\n",
    "\n",
    "# Checking the first few rows\n",
    "print(df.head())\n",
    "\n",
    "# Checking for any summary statistics of numerical features\n",
    "print(df.describe())\n"
   ]
  },
  {
   "cell_type": "markdown",
   "id": "3b286089",
   "metadata": {},
   "source": [
    " ### Display Top Correlations"
   ]
  },
  {
   "cell_type": "code",
   "execution_count": 9,
   "id": "d592dc94",
   "metadata": {},
   "outputs": [
    {
     "data": {
      "image/png": "[encoded data removed]",
      "text/plain": [
       "<Figure size 640x480 with 2 Axes>"
      ]
     },
     "metadata": {},
     "output_type": "display_data"
    }
   ],
   "source": [
    "# Select only numeric columns, including the ones you are interested in\n",
    "selected_columns = [col for col in df.columns if col.startswith('triage')] + ['esi']\n",
    "\n",
    "# Filter out non-numeric columns from the selected columns\n",
    "df_numeric = df[selected_columns].select_dtypes(include=[np.number])\n",
    "\n",
    "# Calculate correlations\n",
    "corr_matrix = df_numeric.corr()\n",
    "\n",
    "# Plot heatmap for selected columns\n",
    "sns.heatmap(corr_matrix, annot=True, cmap='coolwarm', fmt='.2f')\n",
    "plt.show()\n",
    "\n"
   ]
  },
  {
   "cell_type": "markdown",
   "id": "770e6c2f",
   "metadata": {},
   "source": [
    "### Handling Missing Values and Feature Selection\n",
    "\n",
    "1. **Handle Missing Values**: \n",
    "   We begin by handling missing values in the target variable (`esi`) and the `age` feature. Any rows with missing values in these columns are removed.\n",
    "   ```python"
   ]
  },
  {
   "cell_type": "code",
   "execution_count": 11,
   "id": "543cb2bc",
   "metadata": {},
   "outputs": [
    {
     "name": "stdout",
     "output_type": "stream",
     "text": [
      "Handling missing values...\n"
     ]
    }
   ],
   "source": [
    "# Handle missing values in target variable and age\n",
    "print(\"Handling missing values...\")\n",
    "df = df.dropna(subset=['esi', 'age'])\n",
    "df = df[df[\"esi\"] != 0]\n",
    "df = df[df[\"age\"] != 0]"
   ]
  },
  {
   "cell_type": "code",
   "execution_count": 12,
   "id": "9ed6d972",
   "metadata": {},
   "outputs": [],
   "source": [
    "# Ensure 'esi' is retained\n",
    "selected_features = ['esi', 'age', 'gender', 'arrivalmode', 'previousdispo',\n",
    "    'triage_vital_hr', 'triage_vital_rr', 'triage_vital_sbp', \n",
    "    'triage_vital_dbp', 'triage_vital_o2', 'triage_vital_temp']\n"
   ]
  },
  {
   "cell_type": "code",
   "execution_count": 13,
   "id": "8a7a8455",
   "metadata": {},
   "outputs": [],
   "source": [
    "\n",
    "# Add past medical history columns\n",
    "if '2ndarymalig' in df.columns and 'whtblooddx' in df.columns:\n",
    "    medical_history_cols = list(df.loc[:, '2ndarymalig':'whtblooddx'].columns)\n",
    "    selected_features.extend(medical_history_cols)"
   ]
  },
  {
   "cell_type": "code",
   "execution_count": 14,
   "id": "62c5f81d",
   "metadata": {},
   "outputs": [],
   "source": [
    "\n",
    "# Add chief complaints columns\n",
    "chief_complaint_cols = [col for col in df.columns if col.startswith('cc_')]\n",
    "selected_features.extend(chief_complaint_cols)\n"
   ]
  },
  {
   "cell_type": "code",
   "execution_count": 15,
   "id": "031a120b",
   "metadata": {},
   "outputs": [],
   "source": [
    "\n",
    "# Filter selected features\n",
    "selected_features = [f for f in selected_features if f in df.columns]\n",
    "df = df[selected_features].copy()"
   ]
  },
  {
   "cell_type": "code",
   "execution_count": 16,
   "id": "cead26fe",
   "metadata": {},
   "outputs": [
    {
     "name": "stdout",
     "output_type": "stream",
     "text": [
      "Duplicate rows in the dataset:\n",
      "       esi   age  gender arrivalmode previousdispo  triage_vital_hr  \\\n",
      "73     5.0  32.0  Female         NaN     Discharge              NaN   \n",
      "125    3.0  71.0  Female   ambulance         Admit              NaN   \n",
      "885    2.0  84.0  Female   ambulance         Admit              NaN   \n",
      "1217   2.0  63.0  Female   ambulance         Admit              NaN   \n",
      "1247   3.0  85.0    Male   ambulance         Admit              NaN   \n",
      "...    ...   ...     ...         ...           ...              ...   \n",
      "29814  2.0  50.0  Female   ambulance     Discharge              NaN   \n",
      "29815  2.0  50.0  Female   ambulance     Discharge              NaN   \n",
      "29816  2.0  50.0  Female   ambulance     Discharge              NaN   \n",
      "29819  2.0  50.0  Female   ambulance     Discharge              NaN   \n",
      "29955  3.0  29.0  Female   ambulance     Discharge              NaN   \n",
      "\n",
      "       triage_vital_rr  triage_vital_sbp  triage_vital_dbp  triage_vital_o2  \\\n",
      "73                 NaN               NaN               NaN              NaN   \n",
      "125                NaN               NaN               NaN              NaN   \n",
      "885                NaN               NaN               NaN              NaN   \n",
      "1217               NaN               NaN               NaN              NaN   \n",
      "1247               NaN               NaN               NaN              NaN   \n",
      "...                ...               ...               ...              ...   \n",
      "29814              NaN               NaN               NaN              NaN   \n",
      "29815              NaN               NaN               NaN              NaN   \n",
      "29816              NaN               NaN               NaN              NaN   \n",
      "29819              NaN               NaN               NaN              NaN   \n",
      "29955              NaN               NaN               NaN              NaN   \n",
      "\n",
      "       ...  cc_vaginaldischarge  cc_vaginalpain  cc_weakness  cc_wheezing  \\\n",
      "73     ...                  0.0             0.0          0.0          0.0   \n",
      "125    ...                  0.0             0.0          0.0          0.0   \n",
      "885    ...                  0.0             0.0          0.0          0.0   \n",
      "1217   ...                  0.0             0.0          0.0          0.0   \n",
      "1247   ...                  0.0             0.0          0.0          0.0   \n",
      "...    ...                  ...             ...          ...          ...   \n",
      "29814  ...                  0.0             0.0          0.0          0.0   \n",
      "29815  ...                  0.0             0.0          0.0          0.0   \n",
      "29816  ...                  0.0             0.0          0.0          0.0   \n",
      "29819  ...                  0.0             0.0          0.0          0.0   \n",
      "29955  ...                  0.0             0.0          0.0          0.0   \n",
      "\n",
      "       cc_withdrawal-alcohol  cc_woundcheck  cc_woundinfection  \\\n",
      "73                       0.0            0.0                0.0   \n",
      "125                      0.0            0.0                0.0   \n",
      "885                      0.0            0.0                0.0   \n",
      "1217                     0.0            0.0                0.0   \n",
      "1247                     0.0            0.0                0.0   \n",
      "...                      ...            ...                ...   \n",
      "29814                    0.0            0.0                0.0   \n",
      "29815                    0.0            0.0                0.0   \n",
      "29816                    0.0            0.0                0.0   \n",
      "29819                    0.0            0.0                0.0   \n",
      "29955                    0.0            0.0                0.0   \n",
      "\n",
      "       cc_woundre-evaluation  cc_wristinjury  cc_wristpain  \n",
      "73                       0.0             0.0           0.0  \n",
      "125                      0.0             0.0           0.0  \n",
      "885                      0.0             0.0           0.0  \n",
      "1217                     0.0             0.0           0.0  \n",
      "1247                     0.0             0.0           0.0  \n",
      "...                      ...             ...           ...  \n",
      "29814                    0.0             0.0           0.0  \n",
      "29815                    0.0             0.0           0.0  \n",
      "29816                    0.0             0.0           0.0  \n",
      "29819                    0.0             0.0           0.0  \n",
      "29955                    0.0             0.0           0.0  \n",
      "\n",
      "[215 rows x 492 columns]\n"
     ]
    }
   ],
   "source": [
    "# Assuming you have a DataFrame called df\n",
    "duplicates = df[df.duplicated()]\n",
    "\n",
    "print(\"Duplicate rows in the dataset:\")\n",
    "print(duplicates)"
   ]
  },
  {
   "cell_type": "code",
   "execution_count": 17,
   "id": "e1be29e5",
   "metadata": {},
   "outputs": [],
   "source": [
    "df = df.drop_duplicates(keep='first')\n"
   ]
  },
  {
   "cell_type": "markdown",
   "id": "3033d316",
   "metadata": {},
   "source": [
    "### One-Hot Encoding Categorical Features\n",
    "\n",
    "1. **Identify Categorical Columns**:\n",
    "   We define the columns that we want to one-hot encode, which are `gender`, `arrivalmode`, and `previousdispo`. We then ensure that these columns exist in the dataframe.\n",
    "  \n"
   ]
  },
  {
   "cell_type": "markdown",
   "id": "086ea5ca",
   "metadata": {},
   "source": [
    "# One-hot encode categorical features\n"
   ]
  },
  {
   "cell_type": "code",
   "execution_count": 20,
   "id": "0c0c5862",
   "metadata": {},
   "outputs": [
    {
     "name": "stdout",
     "output_type": "stream",
     "text": [
      "One-hot encoding categorical features...\n",
      "One-hot encoding complete!\n"
     ]
    }
   ],
   "source": [
    "print(\"One-hot encoding categorical features...\")\n",
    "categorical_cols = ['gender', 'arrivalmode', 'previousdispo']\n",
    "categorical_cols = [col for col in categorical_cols if col in df.columns]\n",
    "\n",
    "if categorical_cols:\n",
    "    df[categorical_cols] = df[categorical_cols].fillna(\"Unknown\")\n",
    "\n",
    "    encoder = OneHotEncoder(sparse_output=False, handle_unknown='ignore')\n",
    "    encoded_cats = encoder.fit_transform(df[categorical_cols])\n",
    "\n",
    "    new_cols = [f\"{col}_{category}\" for col, categories in zip(categorical_cols, encoder.categories_) for category in categories]\n",
    "    encoded_df = pd.DataFrame(encoded_cats, index=df.index, columns=new_cols)\n",
    "\n",
    "    df = df.drop(columns=categorical_cols).reset_index(drop=True)\n",
    "    df = pd.concat([df, encoded_df], axis=1)\n",
    "\n",
    "print(\"One-hot encoding complete!\")"
   ]
  },
  {
   "cell_type": "code",
   "execution_count": 21,
   "id": "92cf871e-ab87-4e6e-b202-2bd095ce2c67",
   "metadata": {},
   "outputs": [
    {
     "data": {
      "image/png": "[encoded data removed]",
      "text/plain": [
       "<Figure size 1000x800 with 2 Axes>"
      ]
     },
     "metadata": {},
     "output_type": "display_data"
    }
   ],
   "source": [
    "# Compute correlation matrix between ESI and Triage Vital Signs\n",
    "vital_signs = ['esi', 'triage_vital_hr', 'triage_vital_rr', 'triage_vital_sbp', \n",
    "               'triage_vital_dbp', 'triage_vital_o2', 'triage_vital_temp']\n",
    "\n",
    "correlation_matrix_vital = df[vital_signs].corr()\n",
    "\n",
    "# Plot heatmap\n",
    "plt.figure(figsize=(10, 8))\n",
    "sns.heatmap(correlation_matrix_vital, cmap='coolwarm', annot=True, fmt=\".2f\", linewidths=0.5)\n",
    "plt.title(\"Correlation Matrix: ESI and Triage Vital Signs\")\n",
    "plt.xlabel(\"ESI & Vital Signs\")\n",
    "plt.ylabel(\"ESI & Vital Signs\")\n",
    "plt.show()\n"
   ]
  },
  {
   "cell_type": "code",
   "execution_count": 22,
   "id": "43f034a7-79df-45bd-98a5-5f376f03745c",
   "metadata": {},
   "outputs": [
    {
     "data": {
      "image/png": "[encoded data removed]",
      "text/plain": [
       "<Figure size 1200x800 with 1 Axes>"
      ]
     },
     "metadata": {},
     "output_type": "display_data"
    }
   ],
   "source": [
    "plt.figure(figsize=(12, 8))\n",
    "numeric_features=selected_features = [ 'triage_vital_hr', 'triage_vital_rr', 'triage_vital_sbp', \n",
    "    'triage_vital_dbp', 'triage_vital_o2', 'triage_vital_temp'\n",
    "]\n",
    "sns.boxplot(data=df[selected_features].dropna())\n",
    "plt.title('Boxplots of Numeric Features')\n",
    "plt.xticks(rotation=45)\n",
    "plt.show()"
   ]
  },
  {
   "cell_type": "markdown",
   "id": "67f54d90-eda4-4bca-ab0c-0208925b1210",
   "metadata": {},
   "source": [
    "## Explained variance ratio plot\n"
   ]
  },
  {
   "cell_type": "markdown",
   "id": "64a12c7b",
   "metadata": {},
   "source": [
    "# Filling Missing Values\n",
    "\n",
    "1. **Fill Missing Values in 'triage_' Columns**:\n",
    "   We first identify the columns that start with `triage_`. These columns are imputed using the median strategy to handle missing values.\n",
    "  \n"
   ]
  },
  {
   "cell_type": "markdown",
   "id": "dc26fd6c",
   "metadata": {},
   "source": [
    "## Fill missing values\n"
   ]
  },
  {
   "cell_type": "code",
   "execution_count": 26,
   "id": "c0885f10",
   "metadata": {},
   "outputs": [],
   "source": [
    "triage_columns = [col for col in df.columns if col.startswith('triage_')]\n",
    "imputer = SimpleImputer(strategy='median')\n",
    "df[triage_columns] = imputer.fit_transform(df[triage_columns])\n",
    "\n",
    "cc_columns = [col for col in df.columns if col.startswith('cc_')]\n",
    "df[cc_columns] = df[cc_columns].fillna(0)"
   ]
  },
  {
   "cell_type": "markdown",
   "id": "72d7ba37",
   "metadata": {},
   "source": [
    "## Fill NaN values in one-hot encoded columns with 0"
   ]
  },
  {
   "cell_type": "code",
   "execution_count": 28,
   "id": "c7563e4b",
   "metadata": {},
   "outputs": [],
   "source": [
    "\n",
    "df = df.fillna(0)\n"
   ]
  },
  {
   "cell_type": "markdown",
   "id": "607d0771",
   "metadata": {},
   "source": [
    "\n",
    "## Verify no NaN values remain"
   ]
  },
  {
   "cell_type": "code",
   "execution_count": 30,
   "id": "ee20799c",
   "metadata": {},
   "outputs": [
    {
     "name": "stdout",
     "output_type": "stream",
     "text": [
      "[0, 0, 0, 0, 0, 0, 0, 0, 0, 0, 0, 0, 0, 0, 0, 0, 0, 0, 0, 0, 0, 0, 0, 0, 0, 0, 0, 0, 0, 0, 0, 0, 0, 0, 0, 0, 0, 0, 0, 0, 0, 0, 0, 0, 0, 0, 0, 0, 0, 0, 0, 0, 0, 0, 0, 0, 0, 0, 0, 0, 0, 0, 0, 0, 0, 0, 0, 0, 0, 0, 0, 0, 0, 0, 0, 0, 0, 0, 0, 0, 0, 0, 0, 0, 0, 0, 0, 0, 0, 0, 0, 0, 0, 0, 0, 0, 0, 0, 0, 0, 0, 0, 0, 0, 0, 0, 0, 0, 0, 0, 0, 0, 0, 0, 0, 0, 0, 0, 0, 0, 0, 0, 0, 0, 0, 0, 0, 0, 0, 0, 0, 0, 0, 0, 0, 0, 0, 0, 0, 0, 0, 0, 0, 0, 0, 0, 0, 0, 0, 0, 0, 0, 0, 0, 0, 0, 0, 0, 0, 0, 0, 0, 0, 0, 0, 0, 0, 0, 0, 0, 0, 0, 0, 0, 0, 0, 0, 0, 0, 0, 0, 0, 0, 0, 0, 0, 0, 0, 0, 0, 0, 0, 0, 0, 0, 0, 0, 0, 0, 0, 0, 0, 0, 0, 0, 0, 0, 0, 0, 0, 0, 0, 0, 0, 0, 0, 0, 0, 0, 0, 0, 0, 0, 0, 0, 0, 0, 0, 0, 0, 0, 0, 0, 0, 0, 0, 0, 0, 0, 0, 0, 0, 0, 0, 0, 0, 0, 0, 0, 0, 0, 0, 0, 0, 0, 0, 0, 0, 0, 0, 0, 0, 0, 0, 0, 0, 0, 0, 0, 0, 0, 0, 0, 0, 0, 0, 0, 0, 0, 0, 0, 0, 0, 0, 0, 0, 0, 0, 0, 0, 0, 0, 0, 0, 0, 0, 0, 0, 0, 0, 0, 0, 0, 0, 0, 0, 0, 0, 0, 0, 0, 0, 0, 0, 0, 0, 0, 0, 0, 0, 0, 0, 0, 0, 0, 0, 0, 0, 0, 0, 0, 0, 0, 0, 0, 0, 0, 0, 0, 0, 0, 0, 0, 0, 0, 0, 0, 0, 0, 0, 0, 0, 0, 0, 0, 0, 0, 0, 0, 0, 0, 0, 0, 0, 0, 0, 0, 0, 0, 0, 0, 0, 0, 0, 0, 0, 0, 0, 0, 0, 0, 0, 0, 0, 0, 0, 0, 0, 0, 0, 0, 0, 0, 0, 0, 0, 0, 0, 0, 0, 0, 0, 0, 0, 0, 0, 0, 0, 0, 0, 0, 0, 0, 0, 0, 0, 0, 0, 0, 0, 0, 0, 0, 0, 0, 0, 0, 0, 0, 0, 0, 0, 0, 0, 0, 0, 0, 0, 0, 0, 0, 0, 0, 0, 0, 0, 0, 0, 0, 0, 0, 0, 0, 0, 0, 0, 0, 0, 0, 0, 0, 0, 0, 0, 0, 0, 0, 0, 0, 0, 0, 0, 0, 0, 0, 0, 0, 0, 0, 0, 0, 0, 0, 0, 0, 0, 0, 0, 0, 0, 0, 0, 0, 0, 0, 0, 0, 0, 0, 0, 0, 0, 0, 0, 0, 0, 0, 0, 0]\n"
     ]
    }
   ],
   "source": [
    "\n",
    "print(df.isnull().sum().tolist())"
   ]
  },
  {
   "cell_type": "code",
   "execution_count": 31,
   "id": "3144fce8-64b5-4c2d-9314-051105a7a75e",
   "metadata": {},
   "outputs": [
    {
     "name": "stdout",
     "output_type": "stream",
     "text": [
      "Original ESI values: [4. 2. 3. 1. 5. 0.]\n",
      "Original ESI values: [4. 2. 3. 1. 5.]\n"
     ]
    }
   ],
   "source": [
    "print(\"Original ESI values:\", df[\"esi\"].unique())\n",
    "df = df[df[\"esi\"] != 0]\n",
    "df = df[df[\"age\"] != 0]\n",
    "print(\"Original ESI values:\", df[\"esi\"].unique())"
   ]
  },
  {
   "cell_type": "markdown",
   "id": "c3673e5a",
   "metadata": {},
   "source": [
    "# Splitting Data and Normalizing Features\n",
    "\n",
    "1. **Split Data into Training and Testing Datasets**:\n",
    "   We split the dataset into features (`X`) and the target variable (`y`). Then, we use `train_test_split` from `sklearn` to divide the data into training and testing sets, with 80% for training and 20% for testing. The random seed is set to `42` to ensure reproducibility.\n"
   ]
  },
  {
   "cell_type": "markdown",
   "id": "6c42cdd0",
   "metadata": {},
   "source": [
    "## Normalize feature values"
   ]
  },
  {
   "cell_type": "markdown",
   "id": "aa313a0e",
   "metadata": {},
   "source": [
    "### Define a function to replace outliers with the median"
   ]
  },
  {
   "cell_type": "code",
   "execution_count": 35,
   "id": "f21cca2c",
   "metadata": {},
   "outputs": [
    {
     "data": {
      "text/html": [
       "<div>\n",
       "<style scoped>\n",
       "    .dataframe tbody tr th:only-of-type {\n",
       "        vertical-align: middle;\n",
       "    }\n",
       "\n",
       "    .dataframe tbody tr th {\n",
       "        vertical-align: top;\n",
       "    }\n",
       "\n",
       "    .dataframe thead th {\n",
       "        text-align: right;\n",
       "    }\n",
       "</style>\n",
       "<table border=\"1\" class=\"dataframe\">\n",
       "  <thead>\n",
       "    <tr style=\"text-align: right;\">\n",
       "      <th></th>\n",
       "      <th>triage_vital_hr</th>\n",
       "      <th>triage_vital_rr</th>\n",
       "      <th>triage_vital_sbp</th>\n",
       "      <th>triage_vital_dbp</th>\n",
       "      <th>triage_vital_o2</th>\n",
       "      <th>triage_vital_temp</th>\n",
       "    </tr>\n",
       "  </thead>\n",
       "  <tbody>\n",
       "    <tr>\n",
       "      <th>count</th>\n",
       "      <td>29675.000000</td>\n",
       "      <td>29675.000000</td>\n",
       "      <td>29675.000000</td>\n",
       "      <td>29675.000000</td>\n",
       "      <td>29675.0</td>\n",
       "      <td>29675.000000</td>\n",
       "    </tr>\n",
       "    <tr>\n",
       "      <th>mean</th>\n",
       "      <td>83.564749</td>\n",
       "      <td>17.567060</td>\n",
       "      <td>131.141008</td>\n",
       "      <td>79.697703</td>\n",
       "      <td>98.0</td>\n",
       "      <td>98.026749</td>\n",
       "    </tr>\n",
       "    <tr>\n",
       "      <th>std</th>\n",
       "      <td>9.474887</td>\n",
       "      <td>0.827711</td>\n",
       "      <td>11.463977</td>\n",
       "      <td>6.846130</td>\n",
       "      <td>0.0</td>\n",
       "      <td>0.207977</td>\n",
       "    </tr>\n",
       "    <tr>\n",
       "      <th>min</th>\n",
       "      <td>60.000000</td>\n",
       "      <td>15.500000</td>\n",
       "      <td>102.000000</td>\n",
       "      <td>61.500000</td>\n",
       "      <td>98.0</td>\n",
       "      <td>97.500000</td>\n",
       "    </tr>\n",
       "    <tr>\n",
       "      <th>25%</th>\n",
       "      <td>80.000000</td>\n",
       "      <td>18.000000</td>\n",
       "      <td>126.000000</td>\n",
       "      <td>78.000000</td>\n",
       "      <td>98.0</td>\n",
       "      <td>98.000000</td>\n",
       "    </tr>\n",
       "    <tr>\n",
       "      <th>50%</th>\n",
       "      <td>84.000000</td>\n",
       "      <td>18.000000</td>\n",
       "      <td>132.000000</td>\n",
       "      <td>80.000000</td>\n",
       "      <td>98.0</td>\n",
       "      <td>98.000000</td>\n",
       "    </tr>\n",
       "    <tr>\n",
       "      <th>75%</th>\n",
       "      <td>86.000000</td>\n",
       "      <td>18.000000</td>\n",
       "      <td>134.000000</td>\n",
       "      <td>81.000000</td>\n",
       "      <td>98.0</td>\n",
       "      <td>98.000000</td>\n",
       "    </tr>\n",
       "    <tr>\n",
       "      <th>max</th>\n",
       "      <td>108.000000</td>\n",
       "      <td>19.500000</td>\n",
       "      <td>161.500000</td>\n",
       "      <td>97.500000</td>\n",
       "      <td>98.0</td>\n",
       "      <td>98.650000</td>\n",
       "    </tr>\n",
       "  </tbody>\n",
       "</table>\n",
       "</div>"
      ],
      "text/plain": [
       "       triage_vital_hr  triage_vital_rr  triage_vital_sbp  triage_vital_dbp  \\\n",
       "count     29675.000000     29675.000000      29675.000000      29675.000000   \n",
       "mean         83.564749        17.567060        131.141008         79.697703   \n",
       "std           9.474887         0.827711         11.463977          6.846130   \n",
       "min          60.000000        15.500000        102.000000         61.500000   \n",
       "25%          80.000000        18.000000        126.000000         78.000000   \n",
       "50%          84.000000        18.000000        132.000000         80.000000   \n",
       "75%          86.000000        18.000000        134.000000         81.000000   \n",
       "max         108.000000        19.500000        161.500000         97.500000   \n",
       "\n",
       "       triage_vital_o2  triage_vital_temp  \n",
       "count          29675.0       29675.000000  \n",
       "mean              98.0          98.026749  \n",
       "std                0.0           0.207977  \n",
       "min               98.0          97.500000  \n",
       "25%               98.0          98.000000  \n",
       "50%               98.0          98.000000  \n",
       "75%               98.0          98.000000  \n",
       "max               98.0          98.650000  "
      ]
     },
     "metadata": {},
     "output_type": "display_data"
    }
   ],
   "source": [
    "\n",
    "def replace_outliers_with_median(df, columns):\n",
    "    for col in columns:\n",
    "        # Calculate Q1, Q3, and IQR\n",
    "        Q1 = df[col].quantile(0.25)\n",
    "        Q3 = df[col].quantile(0.75)\n",
    "        IQR = Q3 - Q1\n",
    "        \n",
    "        lower_bound = Q1 - 1.5 * IQR\n",
    "        upper_bound = Q3 + 1.5 * IQR\n",
    "        \n",
    "        # Replace outliers with the median of the column\n",
    "        median_value = df[col].median()\n",
    "        df[col] = df[col].apply(lambda x: median_value if x < lower_bound or x > upper_bound else x)\n",
    "    \n",
    "    return df\n",
    "\n",
    "# Columns you want to apply outlier replacement to\n",
    "triage_columns = [col for col in df.columns if col.startswith('triage')]\n",
    "\n",
    "df = replace_outliers_with_median(df, triage_columns)\n",
    "\n",
    "# Display \n",
    "display(df[triage_columns].describe())\n"
   ]
  },
  {
   "cell_type": "markdown",
   "id": "bd2e33ec",
   "metadata": {},
   "source": [
    "###  Display Top Coorolation "
   ]
  },
  {
   "cell_type": "code",
   "execution_count": 37,
   "id": "9ec52234",
   "metadata": {},
   "outputs": [
    {
     "name": "stdout",
     "output_type": "stream",
     "text": [
      "age                     0.277996\n",
      "htn                     0.205671\n",
      "cc_chestpain            0.169648\n",
      "coronathero             0.147509\n",
      "dysrhythmia             0.141538\n",
      "cc_shortnessofbreath    0.141319\n",
      "chfnonhp                0.135865\n",
      "cc_suicidal             0.133906\n",
      "diabmelnoc              0.133095\n",
      "hyperlipidem            0.132158\n",
      "Name: esi, dtype: float64\n"
     ]
    }
   ],
   "source": [
    "# Convert 'esi' to numeric (if it's a categorical variable, you can use encoding)\n",
    "df['esi'] = pd.to_numeric(df['esi'], errors='coerce')\n",
    "\n",
    "# Select only numeric columns\n",
    "numeric_df = df.select_dtypes(include=[np.number])\n",
    "\n",
    "# Calculate correlations\n",
    "corr_matrix = numeric_df.corr()\n",
    "\n",
    "# Extract the correlations of 'esi' with other columns\n",
    "esi_corr = corr_matrix['esi'].drop('esi')  # Exclude self-correlation with 'esi'\n",
    "\n",
    "# Sort and display the top 10 correlations with 'esi'\n",
    "top_esi_corr = esi_corr.abs().sort_values(ascending=False).head(10)\n",
    "\n",
    "# Display the top 10 correlations with 'esi'\n",
    "print(top_esi_corr)\n",
    "\n"
   ]
  },
  {
   "cell_type": "code",
   "execution_count": 38,
   "id": "c0f64c1b-c151-4220-8dab-c38dd180ec49",
   "metadata": {},
   "outputs": [
    {
     "data": {
      "text/html": [
       "<div>\n",
       "<style scoped>\n",
       "    .dataframe tbody tr th:only-of-type {\n",
       "        vertical-align: middle;\n",
       "    }\n",
       "\n",
       "    .dataframe tbody tr th {\n",
       "        vertical-align: top;\n",
       "    }\n",
       "\n",
       "    .dataframe thead th {\n",
       "        text-align: right;\n",
       "    }\n",
       "</style>\n",
       "<table border=\"1\" class=\"dataframe\">\n",
       "  <thead>\n",
       "    <tr style=\"text-align: right;\">\n",
       "      <th></th>\n",
       "      <th>esi</th>\n",
       "      <th>age</th>\n",
       "      <th>triage_vital_hr</th>\n",
       "      <th>triage_vital_rr</th>\n",
       "      <th>triage_vital_sbp</th>\n",
       "      <th>triage_vital_dbp</th>\n",
       "      <th>triage_vital_o2</th>\n",
       "      <th>triage_vital_temp</th>\n",
       "      <th>2ndarymalig</th>\n",
       "      <th>abdomhernia</th>\n",
       "      <th>...</th>\n",
       "      <th>previousdispo_AMA</th>\n",
       "      <th>previousdispo_Admit</th>\n",
       "      <th>previousdispo_Discharge</th>\n",
       "      <th>previousdispo_Eloped</th>\n",
       "      <th>previousdispo_LWBS after Triage</th>\n",
       "      <th>previousdispo_LWBS before Triage</th>\n",
       "      <th>previousdispo_No previous dispo</th>\n",
       "      <th>previousdispo_Observation</th>\n",
       "      <th>previousdispo_Send to L&amp;D</th>\n",
       "      <th>previousdispo_Transfer to Another Facility</th>\n",
       "    </tr>\n",
       "  </thead>\n",
       "  <tbody>\n",
       "    <tr>\n",
       "      <th>count</th>\n",
       "      <td>29675.000000</td>\n",
       "      <td>29675.000000</td>\n",
       "      <td>29675.000000</td>\n",
       "      <td>29675.000000</td>\n",
       "      <td>29675.000000</td>\n",
       "      <td>29675.000000</td>\n",
       "      <td>29675.0</td>\n",
       "      <td>29675.000000</td>\n",
       "      <td>29675.000000</td>\n",
       "      <td>29675.000000</td>\n",
       "      <td>...</td>\n",
       "      <td>29675.000000</td>\n",
       "      <td>29675.000000</td>\n",
       "      <td>29675.000000</td>\n",
       "      <td>29675.000000</td>\n",
       "      <td>29675.000000</td>\n",
       "      <td>29675.000000</td>\n",
       "      <td>29675.000000</td>\n",
       "      <td>29675.000000</td>\n",
       "      <td>29675.000000</td>\n",
       "      <td>29675.000000</td>\n",
       "    </tr>\n",
       "    <tr>\n",
       "      <th>mean</th>\n",
       "      <td>2.996529</td>\n",
       "      <td>53.172199</td>\n",
       "      <td>83.564749</td>\n",
       "      <td>17.567060</td>\n",
       "      <td>131.141008</td>\n",
       "      <td>79.697703</td>\n",
       "      <td>98.0</td>\n",
       "      <td>98.026749</td>\n",
       "      <td>0.001955</td>\n",
       "      <td>0.037439</td>\n",
       "      <td>...</td>\n",
       "      <td>0.004886</td>\n",
       "      <td>0.238180</td>\n",
       "      <td>0.462342</td>\n",
       "      <td>0.002224</td>\n",
       "      <td>0.007616</td>\n",
       "      <td>0.001719</td>\n",
       "      <td>0.262342</td>\n",
       "      <td>0.000674</td>\n",
       "      <td>0.000270</td>\n",
       "      <td>0.010211</td>\n",
       "    </tr>\n",
       "    <tr>\n",
       "      <th>std</th>\n",
       "      <td>0.852122</td>\n",
       "      <td>20.867452</td>\n",
       "      <td>9.474887</td>\n",
       "      <td>0.827711</td>\n",
       "      <td>11.463977</td>\n",
       "      <td>6.846130</td>\n",
       "      <td>0.0</td>\n",
       "      <td>0.207977</td>\n",
       "      <td>0.044167</td>\n",
       "      <td>0.189838</td>\n",
       "      <td>...</td>\n",
       "      <td>0.069732</td>\n",
       "      <td>0.425977</td>\n",
       "      <td>0.498588</td>\n",
       "      <td>0.047109</td>\n",
       "      <td>0.086937</td>\n",
       "      <td>0.041421</td>\n",
       "      <td>0.439915</td>\n",
       "      <td>0.025953</td>\n",
       "      <td>0.016417</td>\n",
       "      <td>0.100532</td>\n",
       "    </tr>\n",
       "    <tr>\n",
       "      <th>min</th>\n",
       "      <td>1.000000</td>\n",
       "      <td>18.000000</td>\n",
       "      <td>60.000000</td>\n",
       "      <td>15.500000</td>\n",
       "      <td>102.000000</td>\n",
       "      <td>61.500000</td>\n",
       "      <td>98.0</td>\n",
       "      <td>97.500000</td>\n",
       "      <td>0.000000</td>\n",
       "      <td>0.000000</td>\n",
       "      <td>...</td>\n",
       "      <td>0.000000</td>\n",
       "      <td>0.000000</td>\n",
       "      <td>0.000000</td>\n",
       "      <td>0.000000</td>\n",
       "      <td>0.000000</td>\n",
       "      <td>0.000000</td>\n",
       "      <td>0.000000</td>\n",
       "      <td>0.000000</td>\n",
       "      <td>0.000000</td>\n",
       "      <td>0.000000</td>\n",
       "    </tr>\n",
       "    <tr>\n",
       "      <th>25%</th>\n",
       "      <td>2.000000</td>\n",
       "      <td>35.000000</td>\n",
       "      <td>80.000000</td>\n",
       "      <td>18.000000</td>\n",
       "      <td>126.000000</td>\n",
       "      <td>78.000000</td>\n",
       "      <td>98.0</td>\n",
       "      <td>98.000000</td>\n",
       "      <td>0.000000</td>\n",
       "      <td>0.000000</td>\n",
       "      <td>...</td>\n",
       "      <td>0.000000</td>\n",
       "      <td>0.000000</td>\n",
       "      <td>0.000000</td>\n",
       "      <td>0.000000</td>\n",
       "      <td>0.000000</td>\n",
       "      <td>0.000000</td>\n",
       "      <td>0.000000</td>\n",
       "      <td>0.000000</td>\n",
       "      <td>0.000000</td>\n",
       "      <td>0.000000</td>\n",
       "    </tr>\n",
       "    <tr>\n",
       "      <th>50%</th>\n",
       "      <td>3.000000</td>\n",
       "      <td>53.000000</td>\n",
       "      <td>84.000000</td>\n",
       "      <td>18.000000</td>\n",
       "      <td>132.000000</td>\n",
       "      <td>80.000000</td>\n",
       "      <td>98.0</td>\n",
       "      <td>98.000000</td>\n",
       "      <td>0.000000</td>\n",
       "      <td>0.000000</td>\n",
       "      <td>...</td>\n",
       "      <td>0.000000</td>\n",
       "      <td>0.000000</td>\n",
       "      <td>0.000000</td>\n",
       "      <td>0.000000</td>\n",
       "      <td>0.000000</td>\n",
       "      <td>0.000000</td>\n",
       "      <td>0.000000</td>\n",
       "      <td>0.000000</td>\n",
       "      <td>0.000000</td>\n",
       "      <td>0.000000</td>\n",
       "    </tr>\n",
       "    <tr>\n",
       "      <th>75%</th>\n",
       "      <td>4.000000</td>\n",
       "      <td>69.000000</td>\n",
       "      <td>86.000000</td>\n",
       "      <td>18.000000</td>\n",
       "      <td>134.000000</td>\n",
       "      <td>81.000000</td>\n",
       "      <td>98.0</td>\n",
       "      <td>98.000000</td>\n",
       "      <td>0.000000</td>\n",
       "      <td>0.000000</td>\n",
       "      <td>...</td>\n",
       "      <td>0.000000</td>\n",
       "      <td>0.000000</td>\n",
       "      <td>1.000000</td>\n",
       "      <td>0.000000</td>\n",
       "      <td>0.000000</td>\n",
       "      <td>0.000000</td>\n",
       "      <td>1.000000</td>\n",
       "      <td>0.000000</td>\n",
       "      <td>0.000000</td>\n",
       "      <td>0.000000</td>\n",
       "    </tr>\n",
       "    <tr>\n",
       "      <th>max</th>\n",
       "      <td>5.000000</td>\n",
       "      <td>107.000000</td>\n",
       "      <td>108.000000</td>\n",
       "      <td>19.500000</td>\n",
       "      <td>161.500000</td>\n",
       "      <td>97.500000</td>\n",
       "      <td>98.0</td>\n",
       "      <td>98.650000</td>\n",
       "      <td>1.000000</td>\n",
       "      <td>1.000000</td>\n",
       "      <td>...</td>\n",
       "      <td>1.000000</td>\n",
       "      <td>1.000000</td>\n",
       "      <td>1.000000</td>\n",
       "      <td>1.000000</td>\n",
       "      <td>1.000000</td>\n",
       "      <td>1.000000</td>\n",
       "      <td>1.000000</td>\n",
       "      <td>1.000000</td>\n",
       "      <td>1.000000</td>\n",
       "      <td>1.000000</td>\n",
       "    </tr>\n",
       "  </tbody>\n",
       "</table>\n",
       "<p>8 rows × 509 columns</p>\n",
       "</div>"
      ],
      "text/plain": [
       "                esi           age  triage_vital_hr  triage_vital_rr  \\\n",
       "count  29675.000000  29675.000000     29675.000000     29675.000000   \n",
       "mean       2.996529     53.172199        83.564749        17.567060   \n",
       "std        0.852122     20.867452         9.474887         0.827711   \n",
       "min        1.000000     18.000000        60.000000        15.500000   \n",
       "25%        2.000000     35.000000        80.000000        18.000000   \n",
       "50%        3.000000     53.000000        84.000000        18.000000   \n",
       "75%        4.000000     69.000000        86.000000        18.000000   \n",
       "max        5.000000    107.000000       108.000000        19.500000   \n",
       "\n",
       "       triage_vital_sbp  triage_vital_dbp  triage_vital_o2  triage_vital_temp  \\\n",
       "count      29675.000000      29675.000000          29675.0       29675.000000   \n",
       "mean         131.141008         79.697703             98.0          98.026749   \n",
       "std           11.463977          6.846130              0.0           0.207977   \n",
       "min          102.000000         61.500000             98.0          97.500000   \n",
       "25%          126.000000         78.000000             98.0          98.000000   \n",
       "50%          132.000000         80.000000             98.0          98.000000   \n",
       "75%          134.000000         81.000000             98.0          98.000000   \n",
       "max          161.500000         97.500000             98.0          98.650000   \n",
       "\n",
       "        2ndarymalig   abdomhernia  ...  previousdispo_AMA  \\\n",
       "count  29675.000000  29675.000000  ...       29675.000000   \n",
       "mean       0.001955      0.037439  ...           0.004886   \n",
       "std        0.044167      0.189838  ...           0.069732   \n",
       "min        0.000000      0.000000  ...           0.000000   \n",
       "25%        0.000000      0.000000  ...           0.000000   \n",
       "50%        0.000000      0.000000  ...           0.000000   \n",
       "75%        0.000000      0.000000  ...           0.000000   \n",
       "max        1.000000      1.000000  ...           1.000000   \n",
       "\n",
       "       previousdispo_Admit  previousdispo_Discharge  previousdispo_Eloped  \\\n",
       "count         29675.000000             29675.000000          29675.000000   \n",
       "mean              0.238180                 0.462342              0.002224   \n",
       "std               0.425977                 0.498588              0.047109   \n",
       "min               0.000000                 0.000000              0.000000   \n",
       "25%               0.000000                 0.000000              0.000000   \n",
       "50%               0.000000                 0.000000              0.000000   \n",
       "75%               0.000000                 1.000000              0.000000   \n",
       "max               1.000000                 1.000000              1.000000   \n",
       "\n",
       "       previousdispo_LWBS after Triage  previousdispo_LWBS before Triage  \\\n",
       "count                     29675.000000                      29675.000000   \n",
       "mean                          0.007616                          0.001719   \n",
       "std                           0.086937                          0.041421   \n",
       "min                           0.000000                          0.000000   \n",
       "25%                           0.000000                          0.000000   \n",
       "50%                           0.000000                          0.000000   \n",
       "75%                           0.000000                          0.000000   \n",
       "max                           1.000000                          1.000000   \n",
       "\n",
       "       previousdispo_No previous dispo  previousdispo_Observation  \\\n",
       "count                     29675.000000               29675.000000   \n",
       "mean                          0.262342                   0.000674   \n",
       "std                           0.439915                   0.025953   \n",
       "min                           0.000000                   0.000000   \n",
       "25%                           0.000000                   0.000000   \n",
       "50%                           0.000000                   0.000000   \n",
       "75%                           1.000000                   0.000000   \n",
       "max                           1.000000                   1.000000   \n",
       "\n",
       "       previousdispo_Send to L&D  previousdispo_Transfer to Another Facility  \n",
       "count               29675.000000                                29675.000000  \n",
       "mean                    0.000270                                    0.010211  \n",
       "std                     0.016417                                    0.100532  \n",
       "min                     0.000000                                    0.000000  \n",
       "25%                     0.000000                                    0.000000  \n",
       "50%                     0.000000                                    0.000000  \n",
       "75%                     0.000000                                    0.000000  \n",
       "max                     1.000000                                    1.000000  \n",
       "\n",
       "[8 rows x 509 columns]"
      ]
     },
     "execution_count": 38,
     "metadata": {},
     "output_type": "execute_result"
    }
   ],
   "source": [
    "df.describe()"
   ]
  },
  {
   "cell_type": "code",
   "execution_count": 39,
   "id": "f8ca8535-bc54-4885-8852-16c72544ace6",
   "metadata": {},
   "outputs": [
    {
     "name": "stdout",
     "output_type": "stream",
     "text": [
      "Original ESI values: [4. 2. 3. 1. 5.]\n"
     ]
    }
   ],
   "source": [
    "df.var(axis=0)\n",
    "print(\"Original ESI values:\", df[\"esi\"].unique())"
   ]
  },
  {
   "cell_type": "code",
   "execution_count": 40,
   "id": "b3c057a0-e968-425c-ada2-319027045767",
   "metadata": {},
   "outputs": [
    {
     "data": {
      "image/png": "[encoded data removed]",
      "text/plain": [
       "<Figure size 1400x500 with 2 Axes>"
      ]
     },
     "metadata": {},
     "output_type": "display_data"
    }
   ],
   "source": [
    "import matplotlib.pyplot as plt\n",
    "\n",
    "means = df.mean(axis=0)\n",
    "vars_ = df.var(axis=0)\n",
    "\n",
    "plt.figure(figsize=(14, 5))\n",
    "\n",
    "plt.subplot(1, 2, 1)\n",
    "plt.hist(means, bins=50)\n",
    "plt.title(\"Distribution of Column Means\")\n",
    "\n",
    "plt.subplot(1, 2, 2)\n",
    "plt.hist(vars_, bins=50)\n",
    "plt.title(\"Distribution of Column Variances\")\n",
    "\n",
    "plt.show()\n"
   ]
  },
  {
   "cell_type": "code",
   "execution_count": 41,
   "id": "ea88554c-7885-4b43-a4a2-fa556ebd5794",
   "metadata": {},
   "outputs": [
    {
     "name": "stdout",
     "output_type": "stream",
     "text": [
      "After SMOTE: Counter({1: 10326, 3: 10326, 2: 10326, 0: 10326, 4: 10326})\n"
     ]
    }
   ],
   "source": [
    "from sklearn.model_selection import train_test_split\n",
    "from sklearn.preprocessing import LabelEncoder, StandardScaler\n",
    "from sklearn.compose import ColumnTransformer\n",
    "from imblearn.over_sampling import SMOTE\n",
    "from collections import Counter\n",
    "\n",
    "# 1) Define X and y\n",
    "y = df['esi']\n",
    "X = numeric_df.drop(columns=['esi'])   # all your numeric features\n",
    "\n",
    "# 2) Label‑encode ESI → 0–4 before the split\n",
    "le = LabelEncoder()\n",
    "y = le.fit_transform(y)\n",
    "\n",
    "# 3) Train-test split\n",
    "X_train, X_test, y_train, y_test = train_test_split(\n",
    "    X, y,\n",
    "    test_size=0.2,\n",
    "    random_state=42,\n",
    "    stratify=y\n",
    ")\n",
    "\n",
    "# 4) Preprocess: Scale triage_* columns\n",
    "triage_cols = [c for c in X_train.columns if c.startswith('triage_')]\n",
    "\n",
    "preprocessor = ColumnTransformer(\n",
    "    transformers=[\n",
    "        (\"triage_scaler\", StandardScaler(), triage_cols),\n",
    "    ],\n",
    "    remainder=\"passthrough\"\n",
    ")\n",
    "\n",
    "# Apply transformation manually\n",
    "X_train = preprocessor.fit_transform(X_train)\n",
    "X_test = preprocessor.transform(X_test)\n",
    "\n",
    "# 5) Apply SMOTE and overwrite X_train and y_train\n",
    "smote = SMOTE(random_state=42)\n",
    "X_train, y_train = smote.fit_resample(X_train, y_train)\n",
    "\n",
    "# Optional: check new class distribution\n",
    "print(\"After SMOTE:\", Counter(y_train))\n"
   ]
  },
  {
   "cell_type": "markdown",
   "id": "511960f6",
   "metadata": {},
   "source": [
    "# KNN Hyperparameter Tuning\n",
    "\n",
    "1. **Initialize the Range for K**:\n",
    "   We define the range of values for `K` to test, which is from `1` to `15`. An array `mean_acc` is initialized to store the accuracy for each value of `K`.\n",
    "   ```python\n",
    "   Ks = 15\n",
    "   mean_acc = np.zeros((Ks-1))\n",
    "2. **Tune KNN for Different K Values**: We loop through the values of K (from 1 to 14), fit the K-Nearest Neighbors (KNN) model to the training data, and make predictions on the test set. The accuracy for each K is calculated and stored in the mean_acc array.The Accuracy is tested for both the test set and train set to avoid overfitting"
   ]
  },
  {
   "cell_type": "markdown",
   "id": "f216e131",
   "metadata": {},
   "source": [
    "## KNN Hyperparameter Tuning"
   ]
  },
  {
   "cell_type": "code",
   "execution_count": 44,
   "id": "c5da7515",
   "metadata": {},
   "outputs": [
    {
     "name": "stdout",
     "output_type": "stream",
     "text": [
      "\n",
      "Tuning KNN...\n"
     ]
    }
   ],
   "source": [
    "\n",
    "Ks = 100\n",
    "mean_acc = np.zeros((Ks-1))\n",
    "\n",
    "print(\"\\nTuning KNN...\")\n",
    "for n in range(1, Ks):\n",
    "    neigh = KNeighborsClassifier(n_neighbors=n, n_jobs=-1)  # use all cores\n",
    "    neigh.fit(X_train, y_train)\n",
    "    yhat = neigh.predict(X_test)\n",
    "    mean_acc[n-1] = accuracy_score(y_test, yhat)\n"
   ]
  },
  {
   "cell_type": "markdown",
   "id": "160accd4",
   "metadata": {},
   "source": [
    "## Best K selection"
   ]
  },
  {
   "cell_type": "code",
   "execution_count": 46,
   "id": "0a5a420a",
   "metadata": {},
   "outputs": [
    {
     "name": "stdout",
     "output_type": "stream",
     "text": [
      "Best K value for KNN: 1\n"
     ]
    }
   ],
   "source": [
    "\n",
    "best_k = mean_acc.argmax() + 1\n",
    "print(f\"Best K value for KNN: {best_k}\")\n"
   ]
  },
  {
   "cell_type": "markdown",
   "id": "be62df1f",
   "metadata": {},
   "source": [
    "## Train KNN with the best K"
   ]
  },
  {
   "cell_type": "code",
   "execution_count": 48,
   "id": "816e1269",
   "metadata": {},
   "outputs": [],
   "source": [
    "\n",
    "knn = KNeighborsClassifier(n_neighbors=best_k)\n",
    "knn.fit(X_train, y_train)\n",
    "knn_preds = knn.predict(X_test)\n"
   ]
  },
  {
   "cell_type": "markdown",
   "id": "f3e05a00",
   "metadata": {},
   "source": [
    "## Add train and test set accuracy "
   ]
  },
  {
   "cell_type": "code",
   "execution_count": 50,
   "id": "f5ae1b30",
   "metadata": {},
   "outputs": [
    {
     "name": "stdout",
     "output_type": "stream",
     "text": [
      "Train set Accuracy:  0.9995157853960875\n",
      "Test set Accuracy:  0.3823083403538332\n"
     ]
    }
   ],
   "source": [
    "\n",
    "print(\"Train set Accuracy: \", metrics.accuracy_score(y_train, knn.predict(X_train)))\n",
    "print(\"Test set Accuracy: \", metrics.accuracy_score(y_test, knn_preds))"
   ]
  },
  {
   "cell_type": "markdown",
   "id": "b94e1205",
   "metadata": {},
   "source": [
    "# SVM Hyperparameter Tuning\n",
    "\n",
    "1. **Define Range of C Values**:\n",
    "   ```python\n",
    "   svm_accuracies = {}\n",
    "2. **Tune SVM for Different C Values**\n",
    "3. **Select the Best C**\n",
    "4. **Train SVM with the Best C**"
   ]
  },
  {
   "cell_type": "markdown",
   "id": "6bcd0b50",
   "metadata": {},
   "source": [
    "## SVM Hyperparameter Tuning\n"
   ]
  },
  {
   "cell_type": "code",
   "execution_count": 53,
   "id": "22e40c60",
   "metadata": {},
   "outputs": [
    {
     "name": "stdout",
     "output_type": "stream",
     "text": [
      "\n",
      "Tuning SVM kernels (with C=1)...\n"
     ]
    }
   ],
   "source": [
    "#kernels = ['linear', 'rbf', 'poly', 'sigmoid']\n",
    "kernels = [ 'rbf']\n",
    "svm_accuracies = {}\n",
    "C_fixed = 1\n",
    "\n",
    "print(\"\\nTuning SVM kernels (with C=1)...\")\n",
    "\n",
    "def train_and_evaluate(kernel):\n",
    "    svm = SVC(kernel=kernel, C=C_fixed)\n",
    "    svm.fit(X_train, y_train)\n",
    "    svm_preds = svm.predict(X_test)\n",
    "    accuracy = accuracy_score(y_test, svm_preds)\n",
    "    print(f\"SVM Accuracy with kernel={kernel}: {accuracy:.4f}\")\n",
    "    return kernel, accuracy\n",
    "\n",
    "# Reduced n_jobs to a reasonable number (2) instead of using all cores (-1)\n",
    "# This helps prevent system overload and KeyboardInterrupt issues\n",
    "results = Parallel(n_jobs=2)(delayed(train_and_evaluate)(kernel) for kernel in kernels)\n",
    "svm_accuracies = dict(results)\n"
   ]
  },
  {
   "cell_type": "markdown",
   "id": "088746fc",
   "metadata": {},
   "source": [
    "## Best C selection"
   ]
  },
  {
   "cell_type": "code",
   "execution_count": 55,
   "id": "5c41d78e",
   "metadata": {},
   "outputs": [
    {
     "name": "stdout",
     "output_type": "stream",
     "text": [
      "Best kernel for SVM: rbf\n"
     ]
    }
   ],
   "source": [
    "best_kernel = max(svm_accuracies, key=svm_accuracies.get)\n",
    "print(f\"Best kernel for SVM: {best_kernel}\")\n"
   ]
  },
  {
   "cell_type": "markdown",
   "id": "84ece815",
   "metadata": {},
   "source": [
    "\n",
    "## Retrain on full training set with best kernel"
   ]
  },
  {
   "cell_type": "code",
   "execution_count": 57,
   "id": "ace29e66",
   "metadata": {},
   "outputs": [
    {
     "name": "stdout",
     "output_type": "stream",
     "text": [
      "Final Test Accuracy: 0.2770\n"
     ]
    }
   ],
   "source": [
    "\n",
    "svm = SVC(kernel=best_kernel, C=C_fixed)\n",
    "svm.fit(X_train, y_train)\n",
    "svm_preds = svm.predict(X_test)\n",
    "print(f\"Final Test Accuracy: {accuracy_score(y_test, svm_preds):.4f}\")\n"
   ]
  },
  {
   "cell_type": "markdown",
   "id": "1cb42f2c",
   "metadata": {},
   "source": [
    "## Add train and test set accuracy\n"
   ]
  },
  {
   "cell_type": "code",
   "execution_count": null,
   "id": "47cb93af",
   "metadata": {},
   "outputs": [],
   "source": [
    "print(\"Train set Accuracy: \", accuracy_score(y_train, svm.predict(X_train)))\n",
    "print(\"Test set Accuracy: \", accuracy_score(y_test, svm_preds))"
   ]
  },
  {
   "cell_type": "markdown",
   "id": "3fe05554",
   "metadata": {},
   "source": [
    "# Decision Tree Hyperparameter Tuning\n",
    "#### Define Range of Max Depth Values\n",
    "We define a list of possible max_depth values for the Decision Tree model, ranging from 1 to 20. Two lists, train_accuracies and test_accuracies,are created to store accuracy for both training and test sets."
   ]
  },
  {
   "cell_type": "code",
   "execution_count": null,
   "id": "93ca1d98",
   "metadata": {},
   "outputs": [],
   "source": [
    "depth_values = list(range(1, 45))  # Max depth from 1 to 20\n",
    "train_accuracies = []\n",
    "test_accuracies = []\n",
    "best_depth = None\n",
    "\n"
   ]
  },
  {
   "cell_type": "markdown",
   "id": "b38bc59f",
   "metadata": {},
   "source": [
    "### Tune Decision Tree for Different Max Depth Values\n",
    "We iterate over the defined max_depth values, training a DecisionTreeClassifier for each. The model is evaluated on both the training and test sets, and the accuracy is stored."
   ]
  },
  {
   "cell_type": "code",
   "execution_count": null,
   "id": "41bb2e14",
   "metadata": {},
   "outputs": [],
   "source": [
    "for depth in depth_values:\n",
    "    dt = DecisionTreeClassifier(max_depth=depth, random_state=150)\n",
    "    dt.fit(X_train, y_train)\n",
    "    \n",
    "    train_acc = accuracy_score(y_train, dt.predict(X_train))\n",
    "    test_acc = accuracy_score(y_test, dt.predict(X_test))\n",
    "    \n",
    "    train_accuracies.append(train_acc)\n",
    "    test_accuracies.append(test_acc)\n",
    "    \n",
    "    print(f\"Max Depth={depth}: Train Accuracy={train_acc:.4f}, Test Accuracy={test_acc:.4f}\")\n",
    "    \n",
    "    # Track the best depth based on test accuracy\n",
    "    if best_depth is None or test_acc > best_depth[1]:\n",
    "        best_depth = (depth, test_acc)\n"
   ]
  },
  {
   "cell_type": "code",
   "execution_count": null,
   "id": "df9692d1",
   "metadata": {},
   "outputs": [],
   "source": [
    "# Decision Tree with the best max depth\n",
    "dt = DecisionTreeClassifier(max_depth=best_depth[0], random_state=150)\n",
    "dt.fit(X_train, y_train)\n",
    "dt_preds = dt.predict(X_test)"
   ]
  },
  {
   "cell_type": "code",
   "execution_count": null,
   "id": "e894cfec",
   "metadata": {},
   "outputs": [],
   "source": [
    "plt.figure(figsize=(10, 6))\n",
    "plt.plot(depth_values, train_accuracies, label='Train Accuracy', marker='o')\n",
    "plt.plot(depth_values, test_accuracies, label='Test Accuracy', marker='s')\n",
    "plt.xlabel('Max Depth')\n",
    "plt.ylabel('Accuracy')\n",
    "plt.title('Decision Tree Accuracy vs Max Depth')\n",
    "plt.legend()\n",
    "plt.grid(True)\n",
    "plt.show()\n"
   ]
  },
  {
   "cell_type": "code",
   "execution_count": null,
   "id": "33c0eb95-5591-4f0e-b0c8-3b664aaeeb8f",
   "metadata": {},
   "outputs": [],
   "source": []
  },
  {
   "cell_type": "markdown",
   "id": "2f85d98b-c975-44a1-9cde-681886f40901",
   "metadata": {},
   "source": [
    "## Random Forest Classifier"
   ]
  },
  {
   "cell_type": "code",
   "execution_count": null,
   "id": "3768291e-a173-4d83-ac20-56d5efcaed72",
   "metadata": {},
   "outputs": [],
   "source": [
    "max_depth_values = range(1, 19)  # Test max_depth from 1 to 20\n",
    "random_state_values = [150]  # Test different random states\n",
    "\n",
    "best_params = None\n",
    "best_accuracy = 0\n",
    "\n",
    "# Iterate over all combinations of max_depth and random_state\n",
    "for max_depth in max_depth_values:\n",
    "    for random_state in random_state_values:\n",
    "        # Train the Random Forest model\n",
    "        rf = RandomForestClassifier(max_depth=max_depth, random_state=random_state, n_estimators=100, class_weight='balanced')\n",
    "        rf.fit(X_train, y_train)\n",
    "        \n",
    "        # Predict on the test set\n",
    "        rf_preds = rf.predict(X_test)\n",
    "        \n",
    "        # Calculate accuracy\n",
    "        accuracy = accuracy_score(y_test, rf_preds)\n",
    "        \n",
    "        # Update best parameters if current accuracy is better\n",
    "        if accuracy > best_accuracy:\n",
    "            best_accuracy = accuracy\n",
    "            best_params = {'max_depth': max_depth, 'random_state': random_state}\n",
    "\n",
    "# Train the best model\n",
    "rf_best = RandomForestClassifier(max_depth=best_params['max_depth'], random_state=best_params['random_state'], n_estimators=200, class_weight='balanced')\n",
    "rf_best.fit(X_train, y_train)\n",
    "rf_preds_best = rf_best.predict(X_test)\n",
    "\n",
    "# Display results\n",
    "print(\"\\nBest Random Forest Parameters:\")\n",
    "print(f\"Max Depth: {best_params['max_depth']}, Random State: {best_params['random_state']}\")\n",
    "print(\"Best Test Set Accuracy: \", best_accuracy)\n",
    "print(\"\\nRandom Forest Performance with Best Parameters:\")\n",
    "print(\"Train set Accuracy: \", accuracy_score(y_train, rf_best.predict(X_train)))\n",
    "print(\"Test set Accuracy: \", accuracy_score(y_test, rf_preds_best))\n",
    "print(\"Classification Report:\\n\", classification_report(y_test, rf_preds_best))"
   ]
  },
  {
   "cell_type": "markdown",
   "id": "925cc785-66eb-456e-8d67-705e47d5eba7",
   "metadata": {},
   "source": [
    "# XGBoost Hyperparameter Tuning\n"
   ]
  },
  {
   "cell_type": "code",
   "execution_count": null,
   "id": "c4a67d33-5be5-4e7d-99e5-47fdbad12189",
   "metadata": {},
   "outputs": [],
   "source": [
    "from sklearn.preprocessing import LabelEncoder\n",
    "\n",
    "# 1) split\n",
    "X_train_sub, X_val, y_train_sub, y_val = train_test_split(\n",
    "    X_train, y_train, train_size=0.3, stratify=y_train, random_state=42\n",
    ")\n",
    "\n",
    "# 2) encode labels to 0–4\n",
    "le = LabelEncoder()\n",
    "y_train_sub = le.fit_transform(y_train_sub)   # maps [1,2,3,4,5] → [0,1,2,3,4]\n",
    "y_val   = le.transform(y_val)             # same mapping for validation"
   ]
  },
  {
   "cell_type": "code",
   "execution_count": null,
   "id": "66e3ce97-8619-41a8-b874-d544b652c8a4",
   "metadata": {},
   "outputs": [],
   "source": [
    "print(\"\\nTuning XGBoost...\")\n",
    "param_grid_xgb = {\n",
    "    'max_depth': [3, 5],\n",
    "    'learning_rate': [0.1, 0.3],\n",
    "    'n_estimators': [100, 200]\n",
    "}\n",
    "xgb_model = xgb.XGBClassifier(objective='multi:softprob', num_class=len(y.unique()), tree_method='hist', n_jobs=-1)\n",
    "grid_search_xgb = GridSearchCV(xgb_model, param_grid_xgb, cv=3, n_jobs=-1)\n",
    "grid_search_xgb.fit(X_train_sub, y_train_sub)\n",
    "best_xgb = grid_search_xgb.best_estimator_\n",
    "print(f\"Best parameters for XGBoost: {grid_search_xgb.best_params_}\")"
   ]
  },
  {
   "cell_type": "code",
   "execution_count": null,
   "id": "87e4f3d2-a350-4998-92bb-fc8876129592",
   "metadata": {},
   "outputs": [],
   "source": [
    "# Train XGBoost\n",
    "xgb_model = best_xgb\n",
    "xgb_model.fit(X_train, y_train)\n",
    "xgb_preds = xgb_model.predict(X_test)\n",
    "print(\"XGBoost Train Accuracy:\", accuracy_score(y_train, xgb_model.predict(X_train)))\n",
    "print(\"XGBoost Test Accuracy:\", accuracy_score(y_test, xgb_preds))\n"
   ]
  },
  {
   "cell_type": "markdown",
   "id": "8069b4b8-a9fc-45ae-bcf9-447eea69b2cf",
   "metadata": {},
   "source": [
    "##  Ordinal Regression"
   ]
  },
  {
   "cell_type": "code",
   "execution_count": null,
   "id": "1e67a849-ffda-41ab-857c-107c99e16166",
   "metadata": {},
   "outputs": [],
   "source": [
    "from sklearn.metrics import confusion_matrix\n",
    "\n",
    "y_train_numeric = y_train.cat.codes if hasattr(y_train, 'cat') else y_train.astype(int)\n",
    "y_test_numeric = y_test.cat.codes if hasattr(y_test, 'cat') else y_test.astype(int)\n",
    "\n",
    "ord_model = mord.LogisticIT()\n",
    "\n",
    "ord_model.fit(X_train, y_train_numeric)\n",
    "\n",
    "ord_preds = ord_model.predict(X_test)\n",
    "\n",
    "print(\"\\nOrdinal Regression Performance:\")\n",
    "print(\"Train set Accuracy: \", accuracy_score(y_train_numeric, ord_model.predict(X_train)))\n",
    "Xgboostacc=accuracy_score(y_test_numeric, ord_preds)\n",
    "print(\"Test set Accuracy: \", accuracy_score(y_test_numeric, ord_preds))\n",
    "print(\"Classification Report:\\n\", classification_report(y_test_numeric, ord_preds))\n",
    "print(\"Confusion Matrix:\\n\", confusion_matrix(y_test_numeric, ord_preds))"
   ]
  },
  {
   "cell_type": "markdown",
   "id": "8d72c1ac",
   "metadata": {},
   "source": [
    "#### Visualize Performance with a Graph\n",
    "We plot the accuracies for different max_depth values to analyze the effect of increasing depth on model performance."
   ]
  },
  {
   "cell_type": "markdown",
   "id": "714c3795-95b8-4afe-b8a0-58d4607eb3c3",
   "metadata": {},
   "source": [
    "## Create and train a linear regression model"
   ]
  },
  {
   "cell_type": "code",
   "execution_count": null,
   "id": "d5a5b4d3-6ade-4086-b8d4-f0c0176bb0c7",
   "metadata": {},
   "outputs": [],
   "source": [
    "linear_model = LinearRegression()\n",
    "linear_model.fit(X_train, y_train_numeric)"
   ]
  },
  {
   "cell_type": "markdown",
   "id": "22667a9b-6831-463b-bc65-6ca87ff5d057",
   "metadata": {},
   "source": [
    "### Make predictions and round to nearest integer"
   ]
  },
  {
   "cell_type": "code",
   "execution_count": null,
   "id": "e13fbeef-c8bc-4243-9790-c77b40616750",
   "metadata": {},
   "outputs": [],
   "source": [
    "linear_preds_raw = linear_model.predict(X_test)\n",
    "linear_preds = np.round(linear_preds_raw).astype(int)"
   ]
  },
  {
   "cell_type": "markdown",
   "id": "cbb5b1c2-fe64-4e79-bdba-5aa0b01e6074",
   "metadata": {},
   "source": [
    "### Ensure predictions are within valid range"
   ]
  },
  {
   "cell_type": "code",
   "execution_count": null,
   "id": "2b1d1bd4-eb76-4e55-9063-c817308a393e",
   "metadata": {},
   "outputs": [],
   "source": [
    "# Get the minimum and maximum class values\n",
    "min_class = min(y_train_numeric)\n",
    "max_class = max(y_train_numeric)-1\n",
    "print(min_class,max_class)\n",
    "# Clip predictions to be within the valid range\n",
    "linear_preds_raw = np.clip(linear_preds_raw, min_class, max_class)\n",
    "\n",
    "# Round down (floor) the predictions instead of rounding to nearest integer\n",
    "linear_preds = np.floor(linear_preds_raw).astype(int)"
   ]
  },
  {
   "cell_type": "code",
   "execution_count": null,
   "id": "b65cc07f-e0f2-47b2-91e3-030c9a657b68",
   "metadata": {},
   "outputs": [],
   "source": [
    "# Evaluate performance\n",
    "print(\"\\nLinear Regression with Rounding Performance:\")\n",
    "print(\"Train set Accuracy: \", accuracy_score(y_train_numeric, \n",
    "                                            np.clip(np.round(linear_model.predict(X_train)).astype(int), \n",
    "                                                   min_class, max_class)))\n",
    "print(\"Test set Accuracy: \", accuracy_score(y_test_numeric, linear_preds))\n",
    "print(\"Classification Report:\\n\", classification_report(y_test_numeric, linear_preds))\n",
    "print(\"Confusion Matrix:\\n\", confusion_matrix(y_test_numeric, linear_preds))"
   ]
  },
  {
   "cell_type": "code",
   "execution_count": null,
   "id": "56f28082-bdea-4411-9031-6e8da503362d",
   "metadata": {},
   "outputs": [],
   "source": [
    "#  Compare raw predictions vs rounded predictions to understand if the method is valid\n",
    "print(\"\\nSample of raw vs rounded predictions:\")\n",
    "sample_indices = np.random.choice(range(len(X_test)), min(10, len(X_test)), replace=False)\n",
    "for idx in sample_indices:\n",
    "    print(f\"True: {y_test_numeric.iloc[idx] if hasattr(y_test_numeric, 'iloc') else y_test_numeric[idx]}, \"\n",
    "          f\"Raw prediction: {linear_preds_raw[idx]:.2f}, \"\n",
    "          f\"Rounded: {linear_preds[idx]}\")"
   ]
  },
  {
   "cell_type": "code",
   "execution_count": null,
   "id": "2b3bec0e-a2c3-4efd-b892-380218c4478a",
   "metadata": {},
   "outputs": [],
   "source": [
    "import matplotlib.pyplot as plt\n",
    "import numpy as np\n",
    "\n",
    "fig, (ax1, ax2) = plt.subplots(1, 2, figsize=(15, 6))\n",
    "\n",
    "ax1.scatter(y_test_numeric, linear_preds_raw, alpha=0.5)\n",
    "ax1.plot([min(y_test_numeric), max(y_test_numeric)], \n",
    "         [min(y_test_numeric), max(y_test_numeric)], \n",
    "         'r--', label='Perfect prediction')\n",
    "ax1.set_xlabel('True Values')\n",
    "ax1.set_ylabel('Raw Predictions')\n",
    "ax1.set_title('Raw Predictions vs True Values')\n",
    "ax1.legend()\n",
    "\n",
    "\n",
    "jitter = np.random.normal(0, 0.05, size=len(y_test_numeric))\n",
    "ax2.scatter(y_test_numeric + jitter, linear_preds, alpha=0.5)\n",
    "ax2.plot([min(y_test_numeric), max(y_test_numeric)], \n",
    "         [min(y_test_numeric), max(y_test_numeric)], \n",
    "         'r--', label='Perfect prediction')\n",
    "ax2.set_xlabel('True Values')\n",
    "ax2.set_ylabel('Rounded Predictions')\n",
    "ax2.set_title('Rounded Predictions vs True Values')\n",
    "ax2.legend()\n",
    "\n",
    "plt.tight_layout()\n",
    "plt.show()\n",
    "\n"
   ]
  },
  {
   "cell_type": "markdown",
   "id": "530825c8",
   "metadata": {},
   "source": [
    "# Model Evaluation\n",
    "\n",
    "1. **KNN Performance**:\n",
    "   After training the KNN model, we evaluate its performance by printing the accuracy and the classification report. The accuracy is calculated using `accuracy_score` and the classification report is generated using `classification_report` from `sklearn`.\n",
    "2. **SVM Performance**: Similarly, we evaluate the performance of the SVM model by printing its accuracy and the classification report. The accuracy is calculated and the classification report is generated in the same way as for KNN.\n",
    "3. **ADD Performance** : We also evaluate the Performance of the model itirating through the best depths and Finding it \n"
   ]
  },
  {
   "cell_type": "markdown",
   "id": "2a6e3cd6",
   "metadata": {},
   "source": [
    "## Model Evaluation"
   ]
  },
  {
   "cell_type": "code",
   "execution_count": null,
   "id": "5dc45798",
   "metadata": {},
   "outputs": [],
   "source": [
    "import matplotlib.pyplot as plt\n",
    "from sklearn.metrics import accuracy_score, classification_report\n",
    "\n",
    "# — assume these preds and best params already exist —\n",
    "# best_k, knn_preds\n",
    "# svm_preds\n",
    "# best_depth, dt_preds\n",
    "# y_test\n",
    "\n",
    "# 1) Compute accuracies\n",
    "knn_acc = accuracy_score(y_test, knn_preds)\n",
    "svm_acc = accuracy_score(y_test, svm_preds)\n",
    "dt_acc  = accuracy_score(y_test, dt_preds)\n",
    "\n",
    "# 2) Print performance (as you had)\n",
    "print(\"\\nKNN Performance:\")\n",
    "print(f\"Best K={best_k} | Accuracy: {knn_acc:.4f}\")\n",
    "print(\"Classification Report:\\n\", classification_report(y_test, knn_preds))\n",
    "\n",
    "print(\"\\nSVM Performance:\")\n",
    "print(f\"Accuracy: {svm_acc:.4f}\")\n",
    "print(\"Classification Report:\\n\", classification_report(y_test, svm_preds))\n",
    "\n",
    "print(\"\\nDecision Tree Performance:\")\n",
    "print(f\"Best Max Depth={best_depth} | Accuracy: {dt_acc:.4f}\")\n",
    "print(\"Classification Report:\\n\", classification_report(y_test, dt_preds))\n",
    "\n",
    "\n",
    "# 3) Bar chart of accuracies\n",
    "models    = ['KNN', 'SVM', 'Decision Tree']\n",
    "accuracies = [knn_acc, svm_acc, dt_acc]\n",
    "colors     = ['#1f77b4', '#ff7f0e', '#2ca02c']  # feel free to pick your own\n",
    "\n",
    "plt.figure(figsize=(10, 5))\n",
    "bars = plt.bar(models, accuracies, color=colors)\n",
    "\n",
    "# annotate bars\n",
    "for bar in bars:\n",
    "    h = bar.get_height()\n",
    "    plt.text(bar.get_x() + bar.get_width()/2, h + 0.005,\n",
    "             f'{h:.4f}', ha='center', va='bottom', fontweight='bold')\n",
    "\n",
    "plt.ylim(0, max(accuracies) + 0.1)\n",
    "plt.ylabel('Accuracy')\n",
    "plt.title('KNN vs SVM vs Decision Tree Accuracy')\n",
    "plt.grid(axis='y', linestyle='--', alpha=0.6)\n",
    "plt.tight_layout()\n",
    "plt.show()\n",
    "\n",
    "\n",
    "\n"
   ]
  },
  {
   "cell_type": "code",
   "execution_count": null,
   "id": "8df20ad0-617b-45bb-bd0b-cc9de8907dc0",
   "metadata": {},
   "outputs": [],
   "source": [
    "# Calculate accuracy scores\n",
    "dt_accuracy = accuracy_score(y_test, dt_preds)\n",
    "ord_accuracy = accuracy_score(y_test, ord_preds)\n",
    "rf_accuracy = accuracy_score(y_test, rf_preds)  # Added Random Forest\n",
    "xgb_accuracy = accuracy_score(y_test, xgb_preds)\n",
    "\n",
    "# Print accuracy scores\n",
    "print(f\"Decision Tree | Best Max Depth={best_depth} | Accuracy: {dt_accuracy:.4f}\")\n",
    "print(f\"Ordinal Regression | Accuracy: {ord_accuracy:.4f}\")\n",
    "print(f\"Random Forest | Accuracy: {rf_accuracy:.4f}\")  # Added Random Forest\n",
    "print(f\"XGBoost | Accuracy: {xgb_accuracy:.4f}\")\n",
    "\n",
    "# Print classification reports\n",
    "print(\"\\nDecision Tree Classification Report:\")\n",
    "print(classification_report(y_test, dt_preds))\n",
    "\n",
    "print(\"\\nOrdinal Regression Classification Report:\")\n",
    "print(classification_report(y_test, ord_preds))\n",
    "\n",
    "print(\"\\nRandom Forest Classification Report:\")  # Added Random Forest\n",
    "print(classification_report(y_test, rf_preds))\n",
    "\n",
    "print(\"\\nXGBoost Classification Report:\")\n",
    "print(classification_report(y_test, xgb_preds))\n",
    "\n",
    "# Create a bar chart to compare accuracies\n",
    "models = ['Decision Tree', 'Ordinal Regression', 'Random Forest', 'XGBoost']  # Added Random Forest\n",
    "accuracies = [dt_accuracy, ord_accuracy, rf_accuracy, xgb_accuracy]  # Added Random Forest\n",
    "\n",
    "plt.figure(figsize=(12, 6))  # Increased width to accommodate the additional bar\n",
    "bars = plt.bar(models, accuracies, color=['#3498db', '#2ecc71', '#9b59b6', '#e74c3c'])  # Added color for Random Forest\n",
    "\n",
    "# Add accuracy values on top of bars\n",
    "for bar in bars:\n",
    "    height = bar.get_height()\n",
    "    plt.text(bar.get_x() + bar.get_width()/2., height + 0.005,\n",
    "             f'{height:.4f}', ha='center', va='bottom', fontweight='bold')\n",
    "\n",
    "plt.ylim(0, max(accuracies) + 0.1)  # Add some space above the highest bar\n",
    "plt.ylabel('Accuracy Score')\n",
    "plt.title('Model Accuracy Comparison')\n",
    "plt.grid(axis='y', linestyle='--', alpha=0.7)\n",
    "plt.tight_layout()\n",
    "plt.show()"
   ]
  },
  {
   "cell_type": "code",
   "execution_count": null,
   "id": "b662f5d7-789d-4624-9e9c-1eeac971735c",
   "metadata": {},
   "outputs": [],
   "source": [
    "import numpy as np\n",
    "import pandas as pd\n",
    "\n",
    "from sklearn.preprocessing import StandardScaler, LabelEncoder\n",
    "from sklearn.model_selection import train_test_split\n",
    "\n",
    "from tensorflow.keras.models import Sequential\n",
    "from tensorflow.keras.layers import Dense, Dropout\n",
    "from tensorflow.keras.utils import to_categorical\n",
    "\n",
    "# — 1) Prepare X and y —\n",
    "y = df['esi']                              # original ESI labels 1–5\n",
    "X = numeric_df.drop(columns=['esi'])       # your numeric feature DataFrame\n",
    "\n",
    "# — 2) Encode labels 1–5 → 0–4 —\n",
    "le = LabelEncoder()\n",
    "y_enc = le.fit_transform(y)                # now 0–4\n",
    "\n",
    "# — 3) Split into train/test (stratify to preserve class balance) —\n",
    "X_train, X_test, y_train, y_test = train_test_split(\n",
    "    X, y_enc,\n",
    "    test_size=0.20,\n",
    "    random_state=42,\n",
    "    stratify=y_enc\n",
    ")\n",
    "\n",
    "# — 4) Scale features —\n",
    "scaler = StandardScaler()\n",
    "X_train = scaler.fit_transform(X_train)\n",
    "X_test  = scaler.transform(X_test)\n",
    "\n",
    "# — 5) One‑hot encode labels for Keras —\n",
    "num_classes = len(le.classes_)             # should be 5\n",
    "y_train_cat = to_categorical(y_train, num_classes)\n",
    "y_test_cat  = to_categorical(y_test,  num_classes)\n",
    "\n",
    "# — 6) Build the neural network —\n",
    "model = Sequential([\n",
    "    Dense(128, activation='relu', input_shape=(X_train.shape[1],)),\n",
    "    Dropout(0.4),\n",
    "    Dense(64,  activation='relu'),\n",
    "    Dropout(0.3),\n",
    "    Dense(num_classes, activation='softmax')\n",
    "])\n",
    "\n",
    "# — 7) Compile —\n",
    "model.compile(\n",
    "    optimizer='adam',\n",
    "    loss='categorical_crossentropy',\n",
    "    metrics=['accuracy']\n",
    ")\n",
    "\n",
    "# — 8) Train —\n",
    "history = model.fit(\n",
    "    X_train, \n",
    "    y_train_cat,\n",
    "    validation_split=0.1,\n",
    "    epochs=200,\n",
    "    batch_size=32,\n",
    "    verbose=2\n",
    ")\n",
    "\n",
    "# — 9) Evaluate on held‑out test set —\n",
    "loss, accuracy = model.evaluate(X_test, y_test_cat, verbose=1)\n",
    "print(f\"Test accuracy: {accuracy:.4f}\")\n"
   ]
  },
  {
   "cell_type": "code",
   "execution_count": null,
   "id": "5cf69849-ce92-45c4-9226-2223f825df12",
   "metadata": {},
   "outputs": [],
   "source": []
  }
 ],
 "metadata": {
  "kernelspec": {
   "display_name": "Python [conda env:base] *",
   "language": "python",
   "name": "conda-base-py"
  },
  "language_info": {
   "codemirror_mode": {
    "name": "ipython",
    "version": 3
   },
   "file_extension": ".py",
   "mimetype": "text/x-python",
   "name": "python",
   "nbconvert_exporter": "python",
   "pygments_lexer": "ipython3",
   "version": "3.12.7"
  }
 },
 "nbformat": 4,
 "nbformat_minor": 5
}
